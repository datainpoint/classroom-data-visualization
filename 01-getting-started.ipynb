{
 "cells": [
  {
   "cell_type": "markdown",
   "metadata": {
    "slideshow": {
     "slide_type": "slide"
    }
   },
   "source": [
    "# 資料視覺化\n",
    "\n",
    "> 起步走\n",
    "\n",
    "[數據交點](https://www.datainpoint.com) | 郭耀仁 <https://linktr.ee/yaojenkuo>"
   ]
  },
  {
   "cell_type": "markdown",
   "metadata": {
    "slideshow": {
     "slide_type": "subslide"
    }
   },
   "source": [
    ">The simple graph has brought more information to the data analyst’s mind than any other device.\n",
    ">\n",
    ">[John Tukey](https://en.wikipedia.org/wiki/John_Tukey)"
   ]
  },
  {
   "cell_type": "code",
   "execution_count": 1,
   "metadata": {
    "slideshow": {
     "slide_type": "subslide"
    }
   },
   "outputs": [],
   "source": [
    "import numpy as np\n",
    "import matplotlib.pyplot as plt\n",
    "import pandas as pd"
   ]
  },
  {
   "cell_type": "markdown",
   "metadata": {
    "slideshow": {
     "slide_type": "slide"
    }
   },
   "source": [
    "## 關於視覺化"
   ]
  },
  {
   "cell_type": "markdown",
   "metadata": {
    "slideshow": {
     "slide_type": "subslide"
    }
   },
   "source": [
    "## 什麼是視覺化\n",
    "\n",
    "視覺化是致力於將抽象性概念具體化的學科，透過圖形中的大小、顏色或形狀等元素把原始資料、函數或方程式等所蘊含的特徵表達給瀏覽的人，進而將抽象的資訊轉換為溝通對象能快速掌握理解的精簡內容。"
   ]
  },
  {
   "cell_type": "markdown",
   "metadata": {
    "slideshow": {
     "slide_type": "subslide"
    }
   },
   "source": [
    "## 資料視覺化將資料值映射為 \"Aesthetics\"\n",
    "\n",
    "常見的 \"Aesthetics\" 有\n",
    "\n",
    "- 位置。\n",
    "- 大小。\n",
    "- 線條的寬度。\n",
    "- 形狀。\n",
    "- 顏色。\n",
    "- 線條的樣式。"
   ]
  },
  {
   "cell_type": "markdown",
   "metadata": {
    "slideshow": {
     "slide_type": "subslide"
    }
   },
   "source": [
    "## 不同型態的資料值\n",
    "\n",
    "- 數值：連續、浮點數。\n",
    "- 數值：離散、整數、具有固定間隔的浮點數。\n",
    "- 類別：無序或有序的因素、文字。\n",
    "- 日期、時間、日期時間。"
   ]
  },
  {
   "cell_type": "markdown",
   "metadata": {
    "slideshow": {
     "slide_type": "subslide"
    }
   },
   "source": [
    "## 為何需要視覺化"
   ]
  },
  {
   "cell_type": "code",
   "execution_count": 2,
   "metadata": {
    "slideshow": {
     "slide_type": "skip"
    }
   },
   "outputs": [],
   "source": [
    "x = np.linspace(0, 2*np.pi)\n",
    "fx = np.sin(x)"
   ]
  },
  {
   "cell_type": "markdown",
   "metadata": {
    "slideshow": {
     "slide_type": "subslide"
    }
   },
   "source": [
    "## 抽象的原始資料：數列 $x$ 與 $f(x)$"
   ]
  },
  {
   "cell_type": "code",
   "execution_count": 3,
   "metadata": {
    "slideshow": {
     "slide_type": "-"
    }
   },
   "outputs": [
    {
     "name": "stdout",
     "output_type": "stream",
     "text": [
      "[0.         0.12822827 0.25645654 0.38468481 0.51291309 0.64114136\n",
      " 0.76936963 0.8975979  1.02582617 1.15405444 1.28228272 1.41051099\n",
      " 1.53873926 1.66696753 1.7951958  1.92342407 2.05165235 2.17988062\n",
      " 2.30810889 2.43633716 2.56456543 2.6927937  2.82102197 2.94925025\n",
      " 3.07747852 3.20570679 3.33393506 3.46216333 3.5903916  3.71861988\n",
      " 3.84684815 3.97507642 4.10330469 4.23153296 4.35976123 4.48798951\n",
      " 4.61621778 4.74444605 4.87267432 5.00090259 5.12913086 5.25735913\n",
      " 5.38558741 5.51381568 5.64204395 5.77027222 5.89850049 6.02672876\n",
      " 6.15495704 6.28318531]\n",
      "[ 0.00000000e+00  1.27877162e-01  2.53654584e-01  3.75267005e-01\n",
      "  4.90717552e-01  5.98110530e-01  6.95682551e-01  7.81831482e-01\n",
      "  8.55142763e-01  9.14412623e-01  9.58667853e-01  9.87181783e-01\n",
      "  9.99486216e-01  9.95379113e-01  9.74927912e-01  9.38468422e-01\n",
      "  8.86599306e-01  8.20172255e-01  7.40277997e-01  6.48228395e-01\n",
      "  5.45534901e-01  4.33883739e-01  3.15108218e-01  1.91158629e-01\n",
      "  6.40702200e-02 -6.40702200e-02 -1.91158629e-01 -3.15108218e-01\n",
      " -4.33883739e-01 -5.45534901e-01 -6.48228395e-01 -7.40277997e-01\n",
      " -8.20172255e-01 -8.86599306e-01 -9.38468422e-01 -9.74927912e-01\n",
      " -9.95379113e-01 -9.99486216e-01 -9.87181783e-01 -9.58667853e-01\n",
      " -9.14412623e-01 -8.55142763e-01 -7.81831482e-01 -6.95682551e-01\n",
      " -5.98110530e-01 -4.90717552e-01 -3.75267005e-01 -2.53654584e-01\n",
      " -1.27877162e-01 -2.44929360e-16]\n"
     ]
    }
   ],
   "source": [
    "print(x)\n",
    "print(fx)"
   ]
  },
  {
   "cell_type": "markdown",
   "metadata": {
    "slideshow": {
     "slide_type": "subslide"
    }
   },
   "source": [
    "## $f(x)=sin(x), \\text{where } 0 \\leq x \\leq 2\\pi$"
   ]
  },
  {
   "cell_type": "code",
   "execution_count": 4,
   "metadata": {
    "slideshow": {
     "slide_type": "skip"
    }
   },
   "outputs": [],
   "source": [
    "def plot_sinx(x_arr, y_arr):\n",
    "    fig = plt.figure()\n",
    "    ax = plt.axes()\n",
    "    ax.plot(x_arr, y_arr)\n",
    "    ax.set_xticks([0, np.pi, 2*np.pi])\n",
    "    ax.set_xticklabels(['$0$', '$\\pi$', '$2\\pi$'])\n",
    "    ax.set_yticks([-1, 0, 1])\n",
    "    ax.set_yticklabels(['$-1$', '$0$', '$1$'])\n",
    "    ax.set_title('$f(x)=sin(x)$')\n",
    "    plt.show()"
   ]
  },
  {
   "cell_type": "code",
   "execution_count": 5,
   "metadata": {},
   "outputs": [
    {
     "data": {
      "image/png": "[encoded data removed]",
      "text/plain": [
       "<Figure size 432x288 with 1 Axes>"
      ]
     },
     "metadata": {
      "needs_background": "light"
     },
     "output_type": "display_data"
    }
   ],
   "source": [
    "plot_sinx(x, fx)"
   ]
  },
  {
   "cell_type": "markdown",
   "metadata": {
    "slideshow": {
     "slide_type": "subslide"
    }
   },
   "source": [
    "## 抽象的數學式\n",
    "\n",
    "\\begin{equation}\n",
    "S(x) = \\frac{1}{1 + e^{-x}}\n",
    "\\end{equation}"
   ]
  },
  {
   "cell_type": "code",
   "execution_count": 6,
   "metadata": {
    "slideshow": {
     "slide_type": "skip"
    }
   },
   "outputs": [],
   "source": [
    "def sigmoid(x):\n",
    "    return 1 / (1 + np.exp(-x))\n",
    "\n",
    "def plot_sigmoid(x_arr, y_arr):\n",
    "    fig = plt.figure()\n",
    "    ax = plt.axes()\n",
    "    ax.plot(x_arr, y_arr)\n",
    "    ax.set_xticks([])\n",
    "    ax.set_yticks([0, 0.5, 1])\n",
    "    ax.set_yticklabels(['0', '0.5', '1'])\n",
    "    ax.spines['left'].set_position('center')\n",
    "    ax.spines['right'].set_color('none')\n",
    "    ax.spines['top'].set_color('none')\n",
    "    ax.set_title('$S(x) = 1/(1+e^{-x})$')\n",
    "    plt.show()\n",
    "\n",
    "x = np.linspace(-10, 10)\n",
    "S = sigmoid(x)"
   ]
  },
  {
   "cell_type": "code",
   "execution_count": 7,
   "metadata": {
    "slideshow": {
     "slide_type": "subslide"
    }
   },
   "outputs": [
    {
     "data": {
      "image/png": "[encoded data removed]",
      "text/plain": [
       "<Figure size 432x288 with 1 Axes>"
      ]
     },
     "metadata": {
      "needs_background": "light"
     },
     "output_type": "display_data"
    }
   ],
   "source": [
    "plot_sigmoid(x, S)"
   ]
  },
  {
   "cell_type": "markdown",
   "metadata": {
    "slideshow": {
     "slide_type": "subslide"
    }
   },
   "source": [
    "## 視覺化在資料科學應用中佔有重要的地位\n",
    "\n",
    "![Imgur](https://i.imgur.com/din6Ig6.png)\n",
    "\n",
    "來源：[R for Data Science](https://r4ds.had.co.nz/)"
   ]
  },
  {
   "cell_type": "markdown",
   "metadata": {
    "slideshow": {
     "slide_type": "subslide"
    }
   },
   "source": [
    "## 資料科學家利用線圖描述損失函數（Loss functions）"
   ]
  },
  {
   "cell_type": "code",
   "execution_count": 8,
   "metadata": {
    "slideshow": {
     "slide_type": "skip"
    }
   },
   "outputs": [],
   "source": [
    "def plot_cross_entropy(x_arr):\n",
    "    y0 = -np.log(1-x_arr)\n",
    "    y1 = -np.log(x_arr)\n",
    "    fig = plt.figure()\n",
    "    ax = plt.axes()\n",
    "    ax.plot(x_arr, y0, label=\"$-log(1 - h_{\\\\theta}(X))$ if y = 0\")\n",
    "    ax.plot(x_arr, y1, label=\"$-log(h_{\\\\theta}(X))$ if y = 1\")\n",
    "    ax.legend()\n",
    "    ax.set_title(\"Cross Entropy\")\n",
    "    ax.set_xlabel(\"$h_{\\\\theta}(X)$\")\n",
    "    ax.set_ylabel(\"Cost\")\n",
    "    plt.show()\n",
    "    \n",
    "x = np.linspace(0.0001, 0.9999, 1000)"
   ]
  },
  {
   "cell_type": "code",
   "execution_count": 9,
   "metadata": {},
   "outputs": [
    {
     "data": {
      "image/png": "[encoded data removed]",
      "text/plain": [
       "<Figure size 432x288 with 1 Axes>"
      ]
     },
     "metadata": {
      "needs_background": "light"
     },
     "output_type": "display_data"
    }
   ],
   "source": [
    "plot_cross_entropy(x)"
   ]
  },
  {
   "cell_type": "markdown",
   "metadata": {
    "slideshow": {
     "slide_type": "subslide"
    }
   },
   "source": [
    "## 資料科學家利用表面圖描述梯度（Gradients）\n",
    "\n",
    "![Imgur](https://i.imgur.com/qMsNwXx.png)\n",
    "\n",
    "來源：[Coursera | Machine Learning](https://www.coursera.org/learn/machine-learning)"
   ]
  },
  {
   "cell_type": "markdown",
   "metadata": {
    "slideshow": {
     "slide_type": "subslide"
    }
   },
   "source": [
    "## 資料科學家也利用等高線圖描述梯度\n",
    "\n",
    "![Imgur](https://i.imgur.com/qmeRAdf.png)\n",
    "\n",
    "來源：[Coursera | Machine Learning](https://www.coursera.org/learn/machine-learning)"
   ]
  },
  {
   "cell_type": "markdown",
   "metadata": {
    "slideshow": {
     "slide_type": "subslide"
    }
   },
   "source": [
    "## 或者利用填滿等高線圖描述決策邊界（Decision boundary）\n",
    "\n",
    "來源：<https://scikit-learn.org/stable/auto_examples/ensemble/plot_voting_decision_regions.html#sphx-glr-auto-examples-ensemble-plot-voting-decision-regions-py>"
   ]
  },
  {
   "cell_type": "code",
   "execution_count": 10,
   "metadata": {
    "slideshow": {
     "slide_type": "skip"
    }
   },
   "outputs": [],
   "source": [
    "from itertools import product\n",
    "from sklearn import datasets\n",
    "from sklearn.tree import DecisionTreeClassifier\n",
    "from sklearn.neighbors import KNeighborsClassifier\n",
    "from sklearn.svm import SVC\n",
    "from sklearn.ensemble import VotingClassifier\n",
    "\n",
    "def plot_multiple_decision_boundary():\n",
    "    # Loading some example data\n",
    "    iris = datasets.load_iris()\n",
    "    X = iris.data[:, [0, 2]]\n",
    "    y = iris.target\n",
    "\n",
    "    # Training classifiers\n",
    "    clf1 = DecisionTreeClassifier(max_depth=4)\n",
    "    clf2 = KNeighborsClassifier(n_neighbors=7)\n",
    "    clf3 = SVC(gamma=.1, kernel='rbf', probability=True)\n",
    "    eclf = VotingClassifier(estimators=[('dt', clf1), ('knn', clf2),\n",
    "                                        ('svc', clf3)],\n",
    "                            voting='soft', weights=[2, 1, 2])\n",
    "\n",
    "    clf1.fit(X, y)\n",
    "    clf2.fit(X, y)\n",
    "    clf3.fit(X, y)\n",
    "    eclf.fit(X, y)\n",
    "\n",
    "    # Plotting decision regions\n",
    "    x_min, x_max = X[:, 0].min() - 1, X[:, 0].max() + 1\n",
    "    y_min, y_max = X[:, 1].min() - 1, X[:, 1].max() + 1\n",
    "    xx, yy = np.meshgrid(np.arange(x_min, x_max, 0.1),\n",
    "                         np.arange(y_min, y_max, 0.1))\n",
    "\n",
    "    f, axarr = plt.subplots(2, 2, sharex='col', sharey='row', figsize=(10, 8))\n",
    "\n",
    "    for idx, clf, tt in zip(product([0, 1], [0, 1]),\n",
    "                            [clf1, clf2, clf3, eclf],\n",
    "                            ['Decision Tree (depth=4)', 'KNN (k=7)',\n",
    "                             'Kernel SVM', 'Soft Voting']):\n",
    "\n",
    "        Z = clf.predict(np.c_[xx.ravel(), yy.ravel()])\n",
    "        Z = Z.reshape(xx.shape)\n",
    "\n",
    "        axarr[idx[0], idx[1]].contourf(xx, yy, Z, alpha=0.4)\n",
    "        axarr[idx[0], idx[1]].scatter(X[:, 0], X[:, 1], c=y,\n",
    "                                      s=20, edgecolor='k')\n",
    "        axarr[idx[0], idx[1]].set_title(tt)\n",
    "\n",
    "    plt.show()"
   ]
  },
  {
   "cell_type": "code",
   "execution_count": 11,
   "metadata": {},
   "outputs": [
    {
     "data": {
      "image/png": "[encoded data removed]",
      "text/plain": [
       "<Figure size 720x576 with 4 Axes>"
      ]
     },
     "metadata": {
      "needs_background": "light"
     },
     "output_type": "display_data"
    }
   ],
   "source": [
    "plot_multiple_decision_boundary()"
   ]
  },
  {
   "cell_type": "markdown",
   "metadata": {
    "slideshow": {
     "slide_type": "subslide"
    }
   },
   "source": [
    "## 經典視覺化\n",
    "\n",
    "1. [Minard's map of Napoleon's disastrous Russian campaign of 1812](https://en.wikipedia.org/wiki/Flow_map#/media/File:Minard.png)\n",
    "2. [Hans Rosling's 200 Countries, 200 Years, 4 Minutes](https://youtu.be/jbkSRLYSojo)"
   ]
  },
  {
   "cell_type": "markdown",
   "metadata": {
    "slideshow": {
     "slide_type": "subslide"
    }
   },
   "source": [
    "## [Minard's map of Napoleon's disastrous Russian campaign of 1812](https://en.wikipedia.org/wiki/Flow_map#/media/File:Minard.png)\n",
    "\n",
    "![Imgur](https://i.imgur.com/DcuAxgz.png?1)"
   ]
  },
  {
   "cell_type": "markdown",
   "metadata": {
    "slideshow": {
     "slide_type": "subslide"
    }
   },
   "source": [
    "## [Hans Rosling's 200 Countries, 200 Years, 4 Minutes](https://youtu.be/jbkSRLYSojo)\n",
    "\n",
    "![Imgur](https://i.imgur.com/IiDf3I8.png?1)"
   ]
  },
  {
   "cell_type": "markdown",
   "metadata": {
    "slideshow": {
     "slide_type": "subslide"
    }
   },
   "source": [
    "## 更多關於 Hans Rosling 與 Gapminder\n",
    "\n",
    "- <https://www.gapminder.org/>\n",
    "- [Factfulness: Ten Reasons We’re Wrong About the World - and Why Things Are Better Than You Think](https://www.books.com.tw/products/F014082044)"
   ]
  },
  {
   "cell_type": "markdown",
   "metadata": {
    "slideshow": {
     "slide_type": "subslide"
    }
   },
   "source": [
    "## 好的視覺化特性\n",
    "\n",
    "- 具有資訊價值。\n",
    "- 能夠自我解釋。\n",
    "- 可以重製。"
   ]
  },
  {
   "cell_type": "markdown",
   "metadata": {
    "slideshow": {
     "slide_type": "slide"
    }
   },
   "source": [
    "## 資料科學應用的管線"
   ]
  },
  {
   "cell_type": "markdown",
   "metadata": {
    "slideshow": {
     "slide_type": "subslide"
    }
   },
   "source": [
    "## 視覺化被用於探索與溝通兩個場景\n",
    "\n",
    "![Imgur](https://i.imgur.com/din6Ig6.png)\n",
    "\n",
    "來源：[R for Data Science](https://r4ds.had.co.nz/)"
   ]
  },
  {
   "cell_type": "markdown",
   "metadata": {
    "slideshow": {
     "slide_type": "subslide"
    }
   },
   "source": [
    "## 載入、清理與轉換外型合稱為 \"Wrangle\"\n",
    "\n",
    "![](https://i.imgur.com/iI7YT4x.png)\n",
    "\n",
    "Source: [R for Data Science](https://r4ds.had.co.nz/)"
   ]
  },
  {
   "cell_type": "markdown",
   "metadata": {
    "slideshow": {
     "slide_type": "subslide"
    }
   },
   "source": [
    "## 如何選擇資料視覺化的工具\n",
    "\n",
    "- 能夠 \"Wrangle\" 資料。\n",
    "- 能夠將資料值映射為 \"Aesthetics\"\n",
    "- 能夠作為溝通的媒介。"
   ]
  },
  {
   "cell_type": "markdown",
   "metadata": {
    "slideshow": {
     "slide_type": "subslide"
    }
   },
   "source": [
    "## 瞭解資料科學從業者的偏好\n",
    "\n",
    "- [2021 Kaggle ML & DS Survey](https://www.kaggle.com/c/kaggle-survey-2021)\n",
    "- [Stack Overflow Trends](https://insights.stackoverflow.com/trends)"
   ]
  },
  {
   "cell_type": "markdown",
   "metadata": {
    "slideshow": {
     "slide_type": "subslide"
    }
   },
   "source": [
    "## 根據 [2021 Kaggle ML & DS Survey](https://www.kaggle.com/c/kaggle-survey-2021) 中的幾個問題\n",
    "\n",
    "- What programming languages do you use on a regular basis? (Select all that apply)\n",
    "- What programming language would you recommend an aspiring data scientist to learn first?\n",
    "- What data visualization libraries or tools do you use on a regular basis? (Select all that apply)\n",
    "- Which of the following business intelligence tools do you use most often?"
   ]
  },
  {
   "cell_type": "code",
   "execution_count": 12,
   "metadata": {
    "slideshow": {
     "slide_type": "skip"
    }
   },
   "outputs": [
    {
     "data": {
      "text/html": [
       "<div>\n",
       "<style scoped>\n",
       "    .dataframe tbody tr th:only-of-type {\n",
       "        vertical-align: middle;\n",
       "    }\n",
       "\n",
       "    .dataframe tbody tr th {\n",
       "        vertical-align: top;\n",
       "    }\n",
       "\n",
       "    .dataframe thead th {\n",
       "        text-align: right;\n",
       "    }\n",
       "</style>\n",
       "<table border=\"1\" class=\"dataframe\">\n",
       "  <thead>\n",
       "    <tr style=\"text-align: right;\">\n",
       "      <th></th>\n",
       "      <th>question_index</th>\n",
       "      <th>question_description</th>\n",
       "      <th>question_type</th>\n",
       "    </tr>\n",
       "  </thead>\n",
       "  <tbody>\n",
       "    <tr>\n",
       "      <th>0</th>\n",
       "      <td>Q1</td>\n",
       "      <td>What is your age (# years)?</td>\n",
       "      <td>multiple choice</td>\n",
       "    </tr>\n",
       "    <tr>\n",
       "      <th>1</th>\n",
       "      <td>Q2</td>\n",
       "      <td>What is your gender?</td>\n",
       "      <td>multiple choice</td>\n",
       "    </tr>\n",
       "    <tr>\n",
       "      <th>2</th>\n",
       "      <td>Q3</td>\n",
       "      <td>In which country do you currently reside?</td>\n",
       "      <td>multiple choice</td>\n",
       "    </tr>\n",
       "    <tr>\n",
       "      <th>3</th>\n",
       "      <td>Q4</td>\n",
       "      <td>What is the highest level of formal education ...</td>\n",
       "      <td>multiple choice</td>\n",
       "    </tr>\n",
       "    <tr>\n",
       "      <th>4</th>\n",
       "      <td>Q5</td>\n",
       "      <td>Select the title most similar to your current ...</td>\n",
       "      <td>multiple choice</td>\n",
       "    </tr>\n",
       "    <tr>\n",
       "      <th>5</th>\n",
       "      <td>Q6</td>\n",
       "      <td>For how many years have you been writing code ...</td>\n",
       "      <td>multiple choice</td>\n",
       "    </tr>\n",
       "    <tr>\n",
       "      <th>6</th>\n",
       "      <td>Q7</td>\n",
       "      <td>What programming languages do you use on a reg...</td>\n",
       "      <td>multiple selection</td>\n",
       "    </tr>\n",
       "    <tr>\n",
       "      <th>7</th>\n",
       "      <td>Q8</td>\n",
       "      <td>What programming language would you recommend ...</td>\n",
       "      <td>multiple choice</td>\n",
       "    </tr>\n",
       "    <tr>\n",
       "      <th>8</th>\n",
       "      <td>Q9</td>\n",
       "      <td>Which of the following integrated development ...</td>\n",
       "      <td>multiple selection</td>\n",
       "    </tr>\n",
       "    <tr>\n",
       "      <th>9</th>\n",
       "      <td>Q10</td>\n",
       "      <td>Which of the following hosted notebook product...</td>\n",
       "      <td>multiple selection</td>\n",
       "    </tr>\n",
       "    <tr>\n",
       "      <th>10</th>\n",
       "      <td>Q11</td>\n",
       "      <td>What type of computing platform do you use mos...</td>\n",
       "      <td>multiple choice</td>\n",
       "    </tr>\n",
       "    <tr>\n",
       "      <th>11</th>\n",
       "      <td>Q12</td>\n",
       "      <td>Which types of specialized hardware do you use...</td>\n",
       "      <td>multiple selection</td>\n",
       "    </tr>\n",
       "    <tr>\n",
       "      <th>12</th>\n",
       "      <td>Q13</td>\n",
       "      <td>Approximately how many times have you used a T...</td>\n",
       "      <td>multiple choice</td>\n",
       "    </tr>\n",
       "    <tr>\n",
       "      <th>13</th>\n",
       "      <td>Q14</td>\n",
       "      <td>What data visualization libraries or tools do ...</td>\n",
       "      <td>multiple selection</td>\n",
       "    </tr>\n",
       "    <tr>\n",
       "      <th>14</th>\n",
       "      <td>Q15</td>\n",
       "      <td>For how many years have you used machine learn...</td>\n",
       "      <td>multiple choice</td>\n",
       "    </tr>\n",
       "    <tr>\n",
       "      <th>15</th>\n",
       "      <td>Q16</td>\n",
       "      <td>Which of the following machine learning framew...</td>\n",
       "      <td>multiple selection</td>\n",
       "    </tr>\n",
       "    <tr>\n",
       "      <th>16</th>\n",
       "      <td>Q17</td>\n",
       "      <td>Which of the following ML algorithms do you us...</td>\n",
       "      <td>multiple selection</td>\n",
       "    </tr>\n",
       "    <tr>\n",
       "      <th>17</th>\n",
       "      <td>Q18</td>\n",
       "      <td>Which categories of computer vision methods do...</td>\n",
       "      <td>multiple selection</td>\n",
       "    </tr>\n",
       "    <tr>\n",
       "      <th>18</th>\n",
       "      <td>Q19</td>\n",
       "      <td>Which of the following natural language proces...</td>\n",
       "      <td>multiple selection</td>\n",
       "    </tr>\n",
       "    <tr>\n",
       "      <th>19</th>\n",
       "      <td>Q20</td>\n",
       "      <td>In what industry is your current employer/cont...</td>\n",
       "      <td>multiple choice</td>\n",
       "    </tr>\n",
       "    <tr>\n",
       "      <th>20</th>\n",
       "      <td>Q21</td>\n",
       "      <td>What is the size of the company where you are ...</td>\n",
       "      <td>multiple choice</td>\n",
       "    </tr>\n",
       "    <tr>\n",
       "      <th>21</th>\n",
       "      <td>Q22</td>\n",
       "      <td>Approximately how many individuals are respons...</td>\n",
       "      <td>multiple choice</td>\n",
       "    </tr>\n",
       "    <tr>\n",
       "      <th>22</th>\n",
       "      <td>Q23</td>\n",
       "      <td>Does your current employer incorporate machine...</td>\n",
       "      <td>multiple choice</td>\n",
       "    </tr>\n",
       "    <tr>\n",
       "      <th>23</th>\n",
       "      <td>Q24</td>\n",
       "      <td>Select any activities that make up an importan...</td>\n",
       "      <td>multiple selection</td>\n",
       "    </tr>\n",
       "    <tr>\n",
       "      <th>24</th>\n",
       "      <td>Q25</td>\n",
       "      <td>What is your current yearly compensation (appr...</td>\n",
       "      <td>multiple choice</td>\n",
       "    </tr>\n",
       "    <tr>\n",
       "      <th>25</th>\n",
       "      <td>Q26</td>\n",
       "      <td>Approximately how much money have you (or your...</td>\n",
       "      <td>multiple choice</td>\n",
       "    </tr>\n",
       "    <tr>\n",
       "      <th>26</th>\n",
       "      <td>Q27A</td>\n",
       "      <td>Which of the following cloud computing platfor...</td>\n",
       "      <td>multiple selection</td>\n",
       "    </tr>\n",
       "    <tr>\n",
       "      <th>27</th>\n",
       "      <td>Q28</td>\n",
       "      <td>Of the cloud platforms that you are familiar w...</td>\n",
       "      <td>multiple choice</td>\n",
       "    </tr>\n",
       "    <tr>\n",
       "      <th>28</th>\n",
       "      <td>Q29A</td>\n",
       "      <td>Do you use any of the following cloud computin...</td>\n",
       "      <td>multiple selection</td>\n",
       "    </tr>\n",
       "    <tr>\n",
       "      <th>29</th>\n",
       "      <td>Q30A</td>\n",
       "      <td>Do you use any of the following data storage p...</td>\n",
       "      <td>multiple selection</td>\n",
       "    </tr>\n",
       "    <tr>\n",
       "      <th>30</th>\n",
       "      <td>Q31A</td>\n",
       "      <td>Do you use any of the following managed machin...</td>\n",
       "      <td>multiple selection</td>\n",
       "    </tr>\n",
       "    <tr>\n",
       "      <th>31</th>\n",
       "      <td>Q32A</td>\n",
       "      <td>Which of the following big data products (rela...</td>\n",
       "      <td>multiple selection</td>\n",
       "    </tr>\n",
       "    <tr>\n",
       "      <th>32</th>\n",
       "      <td>Q33</td>\n",
       "      <td>Which of the following big data products (rela...</td>\n",
       "      <td>multiple choice</td>\n",
       "    </tr>\n",
       "    <tr>\n",
       "      <th>33</th>\n",
       "      <td>Q34A</td>\n",
       "      <td>Which of the following business intelligence t...</td>\n",
       "      <td>multiple selection</td>\n",
       "    </tr>\n",
       "    <tr>\n",
       "      <th>34</th>\n",
       "      <td>Q35</td>\n",
       "      <td>Which of the following business intelligence t...</td>\n",
       "      <td>multiple choice</td>\n",
       "    </tr>\n",
       "    <tr>\n",
       "      <th>35</th>\n",
       "      <td>Q36A</td>\n",
       "      <td>Do you use any automated machine learning tool...</td>\n",
       "      <td>multiple selection</td>\n",
       "    </tr>\n",
       "    <tr>\n",
       "      <th>36</th>\n",
       "      <td>Q37A</td>\n",
       "      <td>Which of the following automated machine learn...</td>\n",
       "      <td>multiple selection</td>\n",
       "    </tr>\n",
       "    <tr>\n",
       "      <th>37</th>\n",
       "      <td>Q38A</td>\n",
       "      <td>Do you use any tools to help manage machine le...</td>\n",
       "      <td>multiple selection</td>\n",
       "    </tr>\n",
       "    <tr>\n",
       "      <th>38</th>\n",
       "      <td>Q39</td>\n",
       "      <td>Where do you publicly share your data analysis...</td>\n",
       "      <td>multiple selection</td>\n",
       "    </tr>\n",
       "    <tr>\n",
       "      <th>39</th>\n",
       "      <td>Q40</td>\n",
       "      <td>On which platforms have you begun or completed...</td>\n",
       "      <td>multiple selection</td>\n",
       "    </tr>\n",
       "    <tr>\n",
       "      <th>40</th>\n",
       "      <td>Q41</td>\n",
       "      <td>What is the primary tool that you use at work ...</td>\n",
       "      <td>multiple choice</td>\n",
       "    </tr>\n",
       "    <tr>\n",
       "      <th>41</th>\n",
       "      <td>Q42</td>\n",
       "      <td>Who/what are your favorite media sources that ...</td>\n",
       "      <td>multiple selection</td>\n",
       "    </tr>\n",
       "    <tr>\n",
       "      <th>42</th>\n",
       "      <td>Q27B</td>\n",
       "      <td>Which of the following cloud computing platfor...</td>\n",
       "      <td>multiple selection</td>\n",
       "    </tr>\n",
       "    <tr>\n",
       "      <th>43</th>\n",
       "      <td>Q29B</td>\n",
       "      <td>In the next 2 years, do you hope to become mor...</td>\n",
       "      <td>multiple selection</td>\n",
       "    </tr>\n",
       "    <tr>\n",
       "      <th>44</th>\n",
       "      <td>Q30B</td>\n",
       "      <td>In the next 2 years, do you hope to become mor...</td>\n",
       "      <td>multiple selection</td>\n",
       "    </tr>\n",
       "    <tr>\n",
       "      <th>45</th>\n",
       "      <td>Q31B</td>\n",
       "      <td>In the next 2 years, do you hope to become mor...</td>\n",
       "      <td>multiple selection</td>\n",
       "    </tr>\n",
       "    <tr>\n",
       "      <th>46</th>\n",
       "      <td>Q32B</td>\n",
       "      <td>Which of the following big data products (rela...</td>\n",
       "      <td>multiple selection</td>\n",
       "    </tr>\n",
       "    <tr>\n",
       "      <th>47</th>\n",
       "      <td>Q34B</td>\n",
       "      <td>Which of the following business intelligence t...</td>\n",
       "      <td>multiple selection</td>\n",
       "    </tr>\n",
       "    <tr>\n",
       "      <th>48</th>\n",
       "      <td>Q36B</td>\n",
       "      <td>Which categories of automated machine learning...</td>\n",
       "      <td>multiple selection</td>\n",
       "    </tr>\n",
       "    <tr>\n",
       "      <th>49</th>\n",
       "      <td>Q37B</td>\n",
       "      <td>Which specific automated machine learning tool...</td>\n",
       "      <td>multiple selection</td>\n",
       "    </tr>\n",
       "    <tr>\n",
       "      <th>50</th>\n",
       "      <td>Q38B</td>\n",
       "      <td>In the next 2 years, do you hope to become mor...</td>\n",
       "      <td>multiple selection</td>\n",
       "    </tr>\n",
       "  </tbody>\n",
       "</table>\n",
       "</div>"
      ],
      "text/plain": [
       "   question_index                               question_description  \\\n",
       "0              Q1                        What is your age (# years)?   \n",
       "1              Q2                               What is your gender?   \n",
       "2              Q3          In which country do you currently reside?   \n",
       "3              Q4  What is the highest level of formal education ...   \n",
       "4              Q5  Select the title most similar to your current ...   \n",
       "5              Q6  For how many years have you been writing code ...   \n",
       "6              Q7  What programming languages do you use on a reg...   \n",
       "7              Q8  What programming language would you recommend ...   \n",
       "8              Q9  Which of the following integrated development ...   \n",
       "9             Q10  Which of the following hosted notebook product...   \n",
       "10            Q11  What type of computing platform do you use mos...   \n",
       "11            Q12  Which types of specialized hardware do you use...   \n",
       "12            Q13  Approximately how many times have you used a T...   \n",
       "13            Q14  What data visualization libraries or tools do ...   \n",
       "14            Q15  For how many years have you used machine learn...   \n",
       "15            Q16  Which of the following machine learning framew...   \n",
       "16            Q17  Which of the following ML algorithms do you us...   \n",
       "17            Q18  Which categories of computer vision methods do...   \n",
       "18            Q19  Which of the following natural language proces...   \n",
       "19            Q20  In what industry is your current employer/cont...   \n",
       "20            Q21  What is the size of the company where you are ...   \n",
       "21            Q22  Approximately how many individuals are respons...   \n",
       "22            Q23  Does your current employer incorporate machine...   \n",
       "23            Q24  Select any activities that make up an importan...   \n",
       "24            Q25  What is your current yearly compensation (appr...   \n",
       "25            Q26  Approximately how much money have you (or your...   \n",
       "26           Q27A  Which of the following cloud computing platfor...   \n",
       "27            Q28  Of the cloud platforms that you are familiar w...   \n",
       "28           Q29A  Do you use any of the following cloud computin...   \n",
       "29           Q30A  Do you use any of the following data storage p...   \n",
       "30           Q31A  Do you use any of the following managed machin...   \n",
       "31           Q32A  Which of the following big data products (rela...   \n",
       "32            Q33  Which of the following big data products (rela...   \n",
       "33           Q34A  Which of the following business intelligence t...   \n",
       "34            Q35  Which of the following business intelligence t...   \n",
       "35           Q36A  Do you use any automated machine learning tool...   \n",
       "36           Q37A  Which of the following automated machine learn...   \n",
       "37           Q38A  Do you use any tools to help manage machine le...   \n",
       "38            Q39  Where do you publicly share your data analysis...   \n",
       "39            Q40  On which platforms have you begun or completed...   \n",
       "40            Q41  What is the primary tool that you use at work ...   \n",
       "41            Q42  Who/what are your favorite media sources that ...   \n",
       "42           Q27B  Which of the following cloud computing platfor...   \n",
       "43           Q29B  In the next 2 years, do you hope to become mor...   \n",
       "44           Q30B  In the next 2 years, do you hope to become mor...   \n",
       "45           Q31B  In the next 2 years, do you hope to become mor...   \n",
       "46           Q32B  Which of the following big data products (rela...   \n",
       "47           Q34B  Which of the following business intelligence t...   \n",
       "48           Q36B  Which categories of automated machine learning...   \n",
       "49           Q37B  Which specific automated machine learning tool...   \n",
       "50           Q38B  In the next 2 years, do you hope to become mor...   \n",
       "\n",
       "         question_type  \n",
       "0      multiple choice  \n",
       "1      multiple choice  \n",
       "2      multiple choice  \n",
       "3      multiple choice  \n",
       "4      multiple choice  \n",
       "5      multiple choice  \n",
       "6   multiple selection  \n",
       "7      multiple choice  \n",
       "8   multiple selection  \n",
       "9   multiple selection  \n",
       "10     multiple choice  \n",
       "11  multiple selection  \n",
       "12     multiple choice  \n",
       "13  multiple selection  \n",
       "14     multiple choice  \n",
       "15  multiple selection  \n",
       "16  multiple selection  \n",
       "17  multiple selection  \n",
       "18  multiple selection  \n",
       "19     multiple choice  \n",
       "20     multiple choice  \n",
       "21     multiple choice  \n",
       "22     multiple choice  \n",
       "23  multiple selection  \n",
       "24     multiple choice  \n",
       "25     multiple choice  \n",
       "26  multiple selection  \n",
       "27     multiple choice  \n",
       "28  multiple selection  \n",
       "29  multiple selection  \n",
       "30  multiple selection  \n",
       "31  multiple selection  \n",
       "32     multiple choice  \n",
       "33  multiple selection  \n",
       "34     multiple choice  \n",
       "35  multiple selection  \n",
       "36  multiple selection  \n",
       "37  multiple selection  \n",
       "38  multiple selection  \n",
       "39  multiple selection  \n",
       "40     multiple choice  \n",
       "41  multiple selection  \n",
       "42  multiple selection  \n",
       "43  multiple selection  \n",
       "44  multiple selection  \n",
       "45  multiple selection  \n",
       "46  multiple selection  \n",
       "47  multiple selection  \n",
       "48  multiple selection  \n",
       "49  multiple selection  \n",
       "50  multiple selection  "
      ]
     },
     "execution_count": 12,
     "metadata": {},
     "output_type": "execute_result"
    }
   ],
   "source": [
    "from scripts import ks2021\n",
    "\n",
    "csv_file = \"https://kaggle-ml-ds-survey.s3.ap-northeast-1.amazonaws.com/kaggle-survey-2021/kaggle_survey_2021_responses.csv\"\n",
    "ks = ks2021.KaggleSurvey2021(csv_file)\n",
    "ks.generate_question_table()"
   ]
  },
  {
   "cell_type": "code",
   "execution_count": 13,
   "metadata": {
    "slideshow": {
     "slide_type": "subslide"
    }
   },
   "outputs": [
    {
     "data": {
      "image/png": "[encoded data removed]",
      "text/plain": [
       "<Figure size 432x288 with 1 Axes>"
      ]
     },
     "metadata": {
      "needs_background": "light"
     },
     "output_type": "display_data"
    }
   ],
   "source": [
    "ks.plot_survey_summary(question_index=\"Q7\", n=4)"
   ]
  },
  {
   "cell_type": "code",
   "execution_count": 14,
   "metadata": {
    "slideshow": {
     "slide_type": "subslide"
    }
   },
   "outputs": [
    {
     "data": {
      "image/png": "[encoded data removed]",
      "text/plain": [
       "<Figure size 432x288 with 1 Axes>"
      ]
     },
     "metadata": {
      "needs_background": "light"
     },
     "output_type": "display_data"
    }
   ],
   "source": [
    "ks.plot_survey_summary(question_index=\"Q8\", n=3)"
   ]
  },
  {
   "cell_type": "code",
   "execution_count": 15,
   "metadata": {
    "slideshow": {
     "slide_type": "subslide"
    }
   },
   "outputs": [
    {
     "data": {
      "image/png": "[encoded data removed]",
      "text/plain": [
       "<Figure size 432x288 with 1 Axes>"
      ]
     },
     "metadata": {
      "needs_background": "light"
     },
     "output_type": "display_data"
    }
   ],
   "source": [
    "ks.plot_survey_summary(question_index=\"Q14\", n=6)"
   ]
  },
  {
   "cell_type": "code",
   "execution_count": 16,
   "metadata": {
    "slideshow": {
     "slide_type": "subslide"
    }
   },
   "outputs": [
    {
     "data": {
      "image/png": "[encoded data removed]",
      "text/plain": [
       "<Figure size 432x288 with 1 Axes>"
      ]
     },
     "metadata": {
      "needs_background": "light"
     },
     "output_type": "display_data"
    }
   ],
   "source": [
    "ks.plot_survey_summary(question_index=\"Q35\", n=3)"
   ]
  },
  {
   "cell_type": "markdown",
   "metadata": {
    "slideshow": {
     "slide_type": "subslide"
    }
   },
   "source": [
    "## 根據 [Stack Overflow Trends](https://insights.stackoverflow.com/trends) 的幾個趨勢\n",
    "\n",
    "- [程式語言](https://insights.stackoverflow.com/trends?tags=r%2Cpython%2Csql%2Cmatlab%2Cjulia)\n",
    "- [視覺化模組](https://insights.stackoverflow.com/trends?tags=matplotlib%2Cggplot2%2Cseaborn%2Cplotly%2Cshiny)"
   ]
  },
  {
   "cell_type": "markdown",
   "metadata": {
    "slideshow": {
     "slide_type": "subslide"
    }
   },
   "source": [
    "## 資料視覺化的工具選擇依據\n",
    "\n",
    "- 使用人數的多寡。\n",
    "- 使用彈性。\n",
    "- 互動性。\n",
    "- 可重製性。"
   ]
  },
  {
   "cell_type": "markdown",
   "metadata": {
    "slideshow": {
     "slide_type": "subslide"
    }
   },
   "source": [
    "## 混搭資料視覺化的工具\n",
    "\n",
    "- Tableau/Power BI 應用於探索與溝通。\n",
    "- SQL 應用於載入與清理。\n",
    "- Python/R 應用於所有資料科學場景。"
   ]
  },
  {
   "cell_type": "markdown",
   "metadata": {
    "slideshow": {
     "slide_type": "subslide"
    }
   },
   "source": [
    "## 資料視覺化 123\n",
    "\n",
    "1. 取得資料。\n",
    "2. 清理轉換資料為合適的格式、外型。\n",
    "3. 將資料映射為 \"Aesthetics\""
   ]
  },
  {
   "cell_type": "markdown",
   "metadata": {
    "slideshow": {
     "slide_type": "subslide"
    }
   },
   "source": [
    "> When it comes to making graphs, half the battle occurs before you call any graphing commands.\n",
    ">\n",
    "> [Winston Chang](https://twitter.com/winston_chang?lang=en)"
   ]
  },
  {
   "cell_type": "markdown",
   "metadata": {
    "slideshow": {
     "slide_type": "subslide"
    }
   },
   "source": [
    "## 清理轉換資料為合適的格式、外型。\n",
    "\n",
    "- 手動：MS Excel/Google Sheet\n",
    "- 程式：Python/R\n",
    "    - Python: [NumPy](https://numpy.org/)/[Pandas](https://pandas.pydata.org/)\n",
    "    - R: [Tidyverse](https://www.tidyverse.org/)"
   ]
  },
  {
   "cell_type": "markdown",
   "metadata": {
    "slideshow": {
     "slide_type": "slide"
    }
   },
   "source": [
    "## Tableau 起步走"
   ]
  },
  {
   "cell_type": "markdown",
   "metadata": {
    "slideshow": {
     "slide_type": "subslide"
    }
   },
   "source": [
    "## 從 Tableau 起步的幾個優點\n",
    "\n",
    "- 跨平台（Windows/macOS）。\n",
    "- No code/low code\n",
    "- 校園計畫：<https://www.tableau.com/community/academic>\n",
    "- Tableau 提供免費的 Public 版本。"
   ]
  },
  {
   "cell_type": "markdown",
   "metadata": {
    "slideshow": {
     "slide_type": "subslide"
    }
   },
   "source": [
    "## 什麼是 Tableau？\n",
    "\n",
    "> Tableau 是視覺化分析平台，可以改變我們使用資料解決問題的方式，讓人員和組織能夠充分發揮資料的價值。\n",
    "\n",
    "來源：<https://www.tableau.com/>"
   ]
  },
  {
   "cell_type": "markdown",
   "metadata": {
    "slideshow": {
     "slide_type": "subslide"
    }
   },
   "source": [
    "## （沒什麼用的）冷知識：Tableau 是古老的法文，意指鮮明生動的圖像\n",
    "\n",
    "來源：<https://www.vocabulary.com/dictionary/tableau>"
   ]
  },
  {
   "cell_type": "markdown",
   "metadata": {
    "slideshow": {
     "slide_type": "subslide"
    }
   },
   "source": [
    "## 下載與安裝 Tableau\n",
    "\n",
    "- Tableau Desktop Professional: <https://www.tableau.com/products/desktop>\n",
    "- Tableau Desktop Public: <https://public.tableau.com/en-us/s/download>"
   ]
  },
  {
   "cell_type": "markdown",
   "metadata": {
    "slideshow": {
     "slide_type": "subslide"
    }
   },
   "source": [
    "## 分享 Tableau 視覺化的不同機制\n",
    "\n",
    "- Tableau Desktop Professional vs. Tableau Online.\n",
    "- Tableau Desktop Public vs. Tableau Public."
   ]
  },
  {
   "cell_type": "markdown",
   "metadata": {
    "slideshow": {
     "slide_type": "subslide"
    }
   },
   "source": [
    "## 下載 Gapminder 資料\n",
    "\n",
    "<https://ntu-viz.s3.ap-northeast-1.amazonaws.com/gapminder/gapminder.csv>"
   ]
  },
  {
   "cell_type": "markdown",
   "metadata": {
    "slideshow": {
     "slide_type": "subslide"
    }
   },
   "source": [
    "## 連結 `gapminder.csv`\n",
    "\n",
    "Tableau Start page > Connect > To a File > Text file > `gapminder.csv`."
   ]
  },
  {
   "cell_type": "markdown",
   "metadata": {
    "slideshow": {
     "slide_type": "subslide"
    }
   },
   "source": [
    "## 資料來源頁面\n",
    "\n",
    "![Imgur](https://i.imgur.com/QRMe34n.png?1)"
   ]
  },
  {
   "cell_type": "markdown",
   "metadata": {
    "slideshow": {
     "slide_type": "subslide"
    }
   },
   "source": [
    "## 暸解資料型別\n",
    "\n",
    "透過欄位上方的小圖示來暸解資料型別。"
   ]
  },
  {
   "cell_type": "markdown",
   "metadata": {
    "slideshow": {
     "slide_type": "subslide"
    }
   },
   "source": [
    "## Tableau 的主要資料型別\n",
    "\n",
    "- 浮點數：Number(decimal)\n",
    "- 整數：Number(whole)\n",
    "- 日期時間：Date & Time\n",
    "- 日期：Date\n",
    "- 文字：String\n",
    "- 布林：Boolean"
   ]
  },
  {
   "cell_type": "markdown",
   "metadata": {
    "slideshow": {
     "slide_type": "subslide"
    }
   },
   "source": [
    "## 篩選資料\n",
    "\n",
    "假如不需要分析整個資料集，可以在資料來源就將資料進行篩選。\n",
    "\n",
    "![Imgur](https://i.imgur.com/TeR5Q2A.png?2)"
   ]
  },
  {
   "cell_type": "markdown",
   "metadata": {
    "slideshow": {
     "slide_type": "subslide"
    }
   },
   "source": [
    "## 試著篩選一個文字欄位\n",
    "\n",
    "![Imgur](https://i.imgur.com/TM8Fl14.png?1)"
   ]
  },
  {
   "cell_type": "markdown",
   "metadata": {
    "slideshow": {
     "slide_type": "subslide"
    }
   },
   "source": [
    "## 試著篩選一個數值欄位\n",
    "\n",
    "![Imgur](https://i.imgur.com/BzfvDZ0.png?1)"
   ]
  },
  {
   "cell_type": "markdown",
   "metadata": {
    "slideshow": {
     "slide_type": "subslide"
    }
   },
   "source": [
    "## 刪除所有篩選條件，完整資料的外型為 `(1704, 6)`。\n",
    "\n",
    "![Imgur](https://i.imgur.com/9uxvGmQ.png)"
   ]
  },
  {
   "cell_type": "markdown",
   "metadata": {
    "slideshow": {
     "slide_type": "subslide"
    }
   },
   "source": [
    "## 工作表一覽\n",
    "\n",
    "![Imgur](https://i.imgur.com/Lsfhpsi.png?1)"
   ]
  },
  {
   "cell_type": "markdown",
   "metadata": {
    "slideshow": {
     "slide_type": "subslide"
    }
   },
   "source": [
    "## 欄位類型\n",
    "\n",
    "1. Dimensions: 類別型、離散型欄位。\n",
    "2. Measures: 數值型、連續型欄位。"
   ]
  },
  {
   "cell_type": "markdown",
   "metadata": {
    "slideshow": {
     "slide_type": "subslide"
    }
   },
   "source": [
    "## （沒什麼用的）冷知識：Tableau 中的 Rows 是 Y 軸，Columns 是 X 軸\n",
    "\n",
    "![](https://media.giphy.com/media/xL7PDV9frcudO/giphy.gif)\n",
    "\n",
    "來源：<https://media.giphy.com/media/xL7PDV9frcudO/giphy.gif>"
   ]
  },
  {
   "cell_type": "markdown",
   "metadata": {
    "slideshow": {
     "slide_type": "subslide"
    }
   },
   "source": [
    "## 建立一個散佈圖（Scatter plot）\n",
    "\n",
    "1. 將 `Life Exp` 拉到 Rows。\n",
    "2. 將 `Gdp Percap` 拉到 Columns。"
   ]
  },
  {
   "cell_type": "markdown",
   "metadata": {
    "slideshow": {
     "slide_type": "subslide"
    }
   },
   "source": [
    "## Tableau 預設會對數值欄位使用 `SUM()` 函數\n",
    "\n",
    "![Imgur](https://i.imgur.com/tnalNF0.png?1)"
   ]
  },
  {
   "cell_type": "markdown",
   "metadata": {
    "slideshow": {
     "slide_type": "subslide"
    }
   },
   "source": [
    "## 更改成維度\n",
    "\n",
    "![Imgur](https://i.imgur.com/n2v4mgo.png?1)"
   ]
  },
  {
   "cell_type": "markdown",
   "metadata": {
    "slideshow": {
     "slide_type": "subslide"
    }
   },
   "source": [
    "## 將 `Continent` 拉到 Color\n",
    "\n",
    "![Imgur](https://i.imgur.com/XEqBAHn.png?1)"
   ]
  },
  {
   "cell_type": "markdown",
   "metadata": {
    "slideshow": {
     "slide_type": "subslide"
    }
   },
   "source": [
    "## 將 `Pop` 拉到 Size\n",
    "\n",
    "![Imgur](https://i.imgur.com/AVjX8Uq.png?1)"
   ]
  },
  {
   "cell_type": "markdown",
   "metadata": {
    "slideshow": {
     "slide_type": "subslide"
    }
   },
   "source": [
    "## 將 `Country` 拉到 Label\n",
    "\n",
    "![Imgur](https://i.imgur.com/kSiyPCD.png?1)"
   ]
  },
  {
   "cell_type": "markdown",
   "metadata": {
    "slideshow": {
     "slide_type": "subslide"
    }
   },
   "source": [
    "## 編輯軸為對數尺度（Log scale）\n",
    "\n",
    "![Imgur](https://i.imgur.com/ywFDC0t.png?1)"
   ]
  },
  {
   "cell_type": "markdown",
   "metadata": {
    "slideshow": {
     "slide_type": "subslide"
    }
   },
   "source": [
    "## 將 `Year` 拉到 Pages\n",
    "\n",
    "完成，我們在 Tableau 重製了一個 [Hans Rosling's 200 Countries, 200 Years, 4 Minutes](https://youtu.be/jbkSRLYSojo) 視覺化！"
   ]
  },
  {
   "cell_type": "markdown",
   "metadata": {
    "slideshow": {
     "slide_type": "subslide"
    }
   },
   "source": [
    "## 上傳至 Tableau Public\n",
    "\n",
    "- 在資料來源將 Connection 由 Live 調整為 Extract\n",
    "- 在 Tableau Desktop Professional 將 Workbook 另存為 `.twbx`\n",
    "- 在 Tableau Desktop Public 開啟 `.twbx`\n",
    "- 分享至 Tableau Public"
   ]
  }
 ],
 "metadata": {
  "celltoolbar": "Slideshow",
  "kernelspec": {
   "display_name": "Python Fifty Plus",
   "language": "python",
   "name": "pythonfiftyplus"
  },
  "language_info": {
   "codemirror_mode": {
    "name": "ipython",
    "version": 3
   },
   "file_extension": ".py",
   "mimetype": "text/x-python",
   "name": "python",
   "nbconvert_exporter": "python",
   "pygments_lexer": "ipython3",
   "version": "3.9.7"
  }
 },
 "nbformat": 4,
 "nbformat_minor": 2
}
