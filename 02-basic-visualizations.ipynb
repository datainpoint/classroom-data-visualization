{
 "cells": [
  {
   "cell_type": "markdown",
   "metadata": {
    "slideshow": {
     "slide_type": "slide"
    }
   },
   "source": [
    "# 資料視覺化\n",
    "\n",
    "> 使用 Tableau 建立基礎視覺化\n",
    "\n",
    "[數據交點](https://www.datainpoint.com) | 郭耀仁 <https://linktr.ee/yaojenkuo>"
   ]
  },
  {
   "cell_type": "markdown",
   "metadata": {
    "slideshow": {
     "slide_type": "slide"
    }
   },
   "source": [
    "## 範例資料"
   ]
  },
  {
   "cell_type": "markdown",
   "metadata": {
    "slideshow": {
     "slide_type": "subslide"
    }
   },
   "source": [
    "## 範例資料下載：Covid19\n",
    "\n",
    "- [daily_report.csv](https://ntu-viz.s3.ap-northeast-1.amazonaws.com/covid19/daily_report.csv)：每日報告。\n",
    "- [time_series.csv](https://ntu-viz.s3.ap-northeast-1.amazonaws.com/covid19/time_series.csv)：時間序列資料。\n",
    "- [lookup_table.csv](https://ntu-viz.s3.ap-northeast-1.amazonaws.com/covid19/lookup_table.csv)：行政區資訊對照表。\n",
    "\n",
    "來源：<https://github.com/CSSEGISandData/COVID-19/blob/master/csse_covid_19_data>"
   ]
  },
  {
   "cell_type": "markdown",
   "metadata": {
    "slideshow": {
     "slide_type": "subslide"
    }
   },
   "source": [
    "## 在 Data Source 頁面編輯對應關係\n",
    "\n",
    "![](https://i.imgur.com/LlHgHpa.png)"
   ]
  },
  {
   "cell_type": "markdown",
   "metadata": {
    "slideshow": {
     "slide_type": "subslide"
    }
   },
   "source": [
    "## 這種對應關係稱為表格的連接（Join）\n",
    "\n",
    "> 連接（JOIN）語句用於將資料庫中的兩個或多個表組合起來。由連接生成的集合，可以被儲存為表，或者當成表來使用。JOIN 語句的含義是把兩張表的屬性通過它們的值組合在一起。\n",
    "\n",
    "來源：<https://en.wikipedia.org/wiki/Join_(SQL)>"
   ]
  },
  {
   "cell_type": "markdown",
   "metadata": {
    "slideshow": {
     "slide_type": "subslide"
    }
   },
   "source": [
    "## 表格連接的預設設定\n",
    "\n",
    "- Cardinality：用來決定觀測值對應的關係。\n",
    "- Referential integrity：用來決定連接的種類。"
   ]
  },
  {
   "cell_type": "markdown",
   "metadata": {
    "slideshow": {
     "slide_type": "subslide"
    }
   },
   "source": [
    "## 另外一種表格合併的機制：聯集（Union）\n",
    "\n",
    "將兩個以上的表格垂直合併成單一表格，必須要有相同的欄位數量才能順利運行。\n",
    "\n",
    "來源：<https://en.wikipedia.org/wiki/Set_operations_(SQL)#UNION_operator>"
   ]
  },
  {
   "cell_type": "markdown",
   "metadata": {
    "slideshow": {
     "slide_type": "slide"
    }
   },
   "source": [
    "## 建立基礎的視覺化"
   ]
  },
  {
   "cell_type": "markdown",
   "metadata": {
    "slideshow": {
     "slide_type": "subslide"
    }
   },
   "source": [
    "## 探索分析的目的\n",
    "\n",
    "- 探索數值資料的相關。\n",
    "- 探索數值資料的分佈。\n",
    "- 探索排序。\n",
    "- 探索趨勢。"
   ]
  },
  {
   "cell_type": "markdown",
   "metadata": {
    "slideshow": {
     "slide_type": "subslide"
    }
   },
   "source": [
    "## 使用散佈圖（Scatter）探索數值資料的相關\n",
    "\n",
    "1. 將數值分別拖移到 Rows 與 Columns。\n",
    "2. 將加總調整成維度。"
   ]
  },
  {
   "cell_type": "markdown",
   "metadata": {
    "slideshow": {
     "slide_type": "subslide"
    }
   },
   "source": [
    "![](https://i.imgur.com/PFLss5f.png)"
   ]
  },
  {
   "cell_type": "markdown",
   "metadata": {
    "slideshow": {
     "slide_type": "subslide"
    }
   },
   "source": [
    "## 使用直方圖（Histogram）探索數值資料的分佈\n",
    "\n",
    "1. 將數值拖移到 Columns。\n",
    "2. 點選 Show Me 選擇直方圖。"
   ]
  },
  {
   "cell_type": "markdown",
   "metadata": {
    "slideshow": {
     "slide_type": "subslide"
    }
   },
   "source": [
    "![](https://i.imgur.com/3PFKb7O.png)"
   ]
  },
  {
   "cell_type": "markdown",
   "metadata": {
    "slideshow": {
     "slide_type": "subslide"
    }
   },
   "source": [
    "## 使用長條圖（Bar）探索排序\n",
    "\n",
    "1. 將類別與數值分別拖移到 Rows 與 Columns。\n",
    "2. 調整長條遞減排序或遞增排序。\n",
    "3. 調整水平或垂直的長條圖。"
   ]
  },
  {
   "cell_type": "markdown",
   "metadata": {
    "slideshow": {
     "slide_type": "subslide"
    }
   },
   "source": [
    "![](https://i.imgur.com/mNa67La.png)"
   ]
  },
  {
   "cell_type": "markdown",
   "metadata": {
    "slideshow": {
     "slide_type": "subslide"
    }
   },
   "source": [
    "## 使用線圖（Line）探索趨勢\n",
    "\n",
    "1. 將日期與數值分別拖移到 Rows 與 Columns。\n",
    "2. 可以摺疊日期為年、季、月與日。\n",
    "3. 將國家名稱拖移到 Filters 與 Color。"
   ]
  },
  {
   "cell_type": "markdown",
   "metadata": {
    "slideshow": {
     "slide_type": "subslide"
    }
   },
   "source": [
    "![](https://i.imgur.com/2W6EtWg.png)"
   ]
  },
  {
   "cell_type": "markdown",
   "metadata": {
    "slideshow": {
     "slide_type": "subslide"
    }
   },
   "source": [
    "## 透過基礎視覺化，大致上多數的探索性分析目的都能被滿足\n",
    "\n",
    "更多的視覺化則是針對目的性更明確的探索性分析。"
   ]
  },
  {
   "cell_type": "markdown",
   "metadata": {
    "slideshow": {
     "slide_type": "slide"
    }
   },
   "source": [
    "## 更多的視覺化"
   ]
  },
  {
   "cell_type": "markdown",
   "metadata": {
    "slideshow": {
     "slide_type": "subslide"
    }
   },
   "source": [
    "## 區域圖（Area）像是線圖與長條圖的組合，用來探索趨勢與組成\n",
    "\n",
    "- 將日期拖移到 Columns。\n",
    "- 將數值拖移到 Rows。\n",
    "- 將類別拖移到 Color。\n",
    "- 點選 Show Me 選擇區域圖。"
   ]
  },
  {
   "cell_type": "markdown",
   "metadata": {
    "slideshow": {
     "slide_type": "subslide"
    }
   },
   "source": [
    "![](https://i.imgur.com/y5V9dJa.png)"
   ]
  },
  {
   "cell_type": "markdown",
   "metadata": {
    "slideshow": {
     "slide_type": "subslide"
    }
   },
   "source": [
    "## 子彈圖（Bullet） 像是長條圖，但多了基準比較（Benchmark）的功能\n",
    "\n",
    "- 將兩個數值拖移到 Columns。\n",
    "- 將類別拖移到 Rows。\n",
    "- 點選 Show Me 選擇子彈圖。"
   ]
  },
  {
   "cell_type": "markdown",
   "metadata": {
    "slideshow": {
     "slide_type": "subslide"
    }
   },
   "source": [
    "![](https://i.imgur.com/VgPWgQd.png)"
   ]
  },
  {
   "cell_type": "markdown",
   "metadata": {
    "slideshow": {
     "slide_type": "subslide"
    }
   },
   "source": [
    "## 圓點圖（Circle views）的用來探索不同類別的分配\n",
    "\n",
    "- 將類別拖移到 Columns。\n",
    "- 將數值拖移到 Rows。\n",
    "- 將加總調整成維度。"
   ]
  },
  {
   "cell_type": "markdown",
   "metadata": {
    "slideshow": {
     "slide_type": "subslide"
    }
   },
   "source": [
    "![](https://i.imgur.com/jACE9eK.png)"
   ]
  },
  {
   "cell_type": "markdown",
   "metadata": {
    "slideshow": {
     "slide_type": "subslide"
    }
   },
   "source": [
    "## 雙軸組合（Dual combination）組合長條圖與線圖\n",
    "\n",
    "- 將日期拖移到 Columns。\n",
    "- 將兩個數值拖移到 Rows。\n",
    "- 點選 Show Me 選擇雙軸組合圖。"
   ]
  },
  {
   "cell_type": "markdown",
   "metadata": {
    "slideshow": {
     "slide_type": "subslide"
    }
   },
   "source": [
    "![](https://i.imgur.com/DtCUFvv.png)"
   ]
  },
  {
   "cell_type": "markdown",
   "metadata": {
    "slideshow": {
     "slide_type": "subslide"
    }
   },
   "source": [
    "## 雙軸線圖（Dual line）組合線圖\n",
    "\n",
    "- 將日期拖移到 Columns\n",
    "- 將兩個數值拖移到 Rows\n",
    "- 點選 Show Me 選擇雙軸線圖。"
   ]
  },
  {
   "cell_type": "markdown",
   "metadata": {
    "slideshow": {
     "slide_type": "subslide"
    }
   },
   "source": [
    "![](https://i.imgur.com/X8IaLux.png)"
   ]
  },
  {
   "cell_type": "markdown",
   "metadata": {
    "slideshow": {
     "slide_type": "subslide"
    }
   },
   "source": [
    "## 高光表格（Highlight tables）透過顏色來探索排序\n",
    "\n",
    "- 將類別拖移到 Rows\n",
    "- 將數值拖移到 Color\n",
    "- 點選 Show Me 選擇高光表格。"
   ]
  },
  {
   "cell_type": "markdown",
   "metadata": {
    "slideshow": {
     "slide_type": "subslide"
    }
   },
   "source": [
    "![](https://i.imgur.com/mIraOx5.png)"
   ]
  },
  {
   "cell_type": "markdown",
   "metadata": {
    "slideshow": {
     "slide_type": "subslide"
    }
   },
   "source": [
    "## 包裝氣泡圖（Packed bubble）與長條圖的探索性目的相似，但是添加了階層功能\n",
    "\n",
    "- 建立階層類別變數。\n",
    "- 將階層類別變數拖移到 Columns。\n",
    "- 將數值拖移到 Rows。\n",
    "- 點選 Show Me 選擇包裝氣泡圖。"
   ]
  },
  {
   "cell_type": "markdown",
   "metadata": {
    "slideshow": {
     "slide_type": "subslide"
    }
   },
   "source": [
    "![](https://i.imgur.com/ucqiHa0.png)"
   ]
  },
  {
   "cell_type": "markdown",
   "metadata": {
    "slideshow": {
     "slide_type": "subslide"
    }
   },
   "source": [
    "## 圓餅圖（Pie）與長條圖的探索性目的相似，但不太推薦使用\n",
    "\n",
    "- 將類別拖移到 Columns。\n",
    "- 將數值拖移到 Rows。\n",
    "- 點選 Show Me 選擇圓餅圖。"
   ]
  },
  {
   "cell_type": "markdown",
   "metadata": {
    "slideshow": {
     "slide_type": "subslide"
    }
   },
   "source": [
    "![](https://i.imgur.com/eDVX0OS.png)"
   ]
  },
  {
   "cell_type": "markdown",
   "metadata": {
    "slideshow": {
     "slide_type": "subslide"
    }
   },
   "source": [
    "## 表格（Text tables）是視覺化中反璞歸真的呈現\n",
    "\n",
    "- 將數值拖移到 Columns。\n",
    "- 將類別拖移到 Rows。\n",
    "- 點選 Show Me 選擇表格。"
   ]
  },
  {
   "cell_type": "markdown",
   "metadata": {
    "slideshow": {
     "slide_type": "subslide"
    }
   },
   "source": [
    "![](https://i.imgur.com/XfZ4fL3l.png)"
   ]
  },
  {
   "cell_type": "markdown",
   "metadata": {
    "slideshow": {
     "slide_type": "subslide"
    }
   },
   "source": [
    "## 樹圖（Treemap）的探索性分析目的類似包裝氣泡圖\n",
    "\n",
    "- 將數值拖移到 Columns。\n",
    "- 將階層類別變數拖移到 Columns。\n",
    "- 點選 Show Me 選擇樹圖。"
   ]
  },
  {
   "cell_type": "markdown",
   "metadata": {
    "slideshow": {
     "slide_type": "subslide"
    }
   },
   "source": [
    "![](https://i.imgur.com/sfHcdvG.png)"
   ]
  },
  {
   "cell_type": "markdown",
   "metadata": {
    "slideshow": {
     "slide_type": "subslide"
    }
   },
   "source": [
    "## 記號地圖（Symbol map）的探索性目的類似表格，但是將數值與地理資訊結合\n",
    "\n",
    "- 將經度或者行政區名稱拖移到 Columns。\n",
    "- 將緯度或者行政區名稱拖移到 Rows。\n",
    "- 將數值拖移到 Size。"
   ]
  },
  {
   "cell_type": "markdown",
   "metadata": {
    "slideshow": {
     "slide_type": "subslide"
    }
   },
   "source": [
    "![](https://i.imgur.com/idqiAbZ.png)"
   ]
  },
  {
   "cell_type": "markdown",
   "metadata": {
    "slideshow": {
     "slide_type": "subslide"
    }
   },
   "source": [
    "## 分區著色圖（Filled map, polygon map）與記號地圖相似，但是用漸層色表現數值的大小\n",
    "\n",
    "- 將經度或者行政區名稱拖移到 Columns。\n",
    "- 將緯度或者行政區名稱拖移到 Rows。\n",
    "- 調整標記（Marks）為地圖。\n",
    "- 將數值拖移到 Color。"
   ]
  },
  {
   "cell_type": "markdown",
   "metadata": {
    "slideshow": {
     "slide_type": "subslide"
    }
   },
   "source": [
    "![](https://i.imgur.com/fFJq5rT.png)"
   ]
  }
 ],
 "metadata": {
  "celltoolbar": "Slideshow",
  "kernelspec": {
   "display_name": "Python 3 (ipykernel)",
   "language": "python",
   "name": "python3"
  },
  "language_info": {
   "codemirror_mode": {
    "name": "ipython",
    "version": 3
   },
   "file_extension": ".py",
   "mimetype": "text/x-python",
   "name": "python",
   "nbconvert_exporter": "python",
   "pygments_lexer": "ipython3",
   "version": "3.9.5"
  }
 },
 "nbformat": 4,
 "nbformat_minor": 4
}
