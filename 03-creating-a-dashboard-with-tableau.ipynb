{
 "cells": [
  {
   "cell_type": "markdown",
   "metadata": {
    "slideshow": {
     "slide_type": "slide"
    }
   },
   "source": [
    "# 資料視覺化\n",
    "\n",
    "> 使用 Tableau 建立儀表板\n",
    "\n",
    "[數據交點](https://www.datainpoint.com) | 郭耀仁 <https://linktr.ee/yaojenkuo>"
   ]
  },
  {
   "cell_type": "markdown",
   "metadata": {
    "slideshow": {
     "slide_type": "slide"
    }
   },
   "source": [
    "## 建立衍生計算欄位"
   ]
  },
  {
   "cell_type": "markdown",
   "metadata": {
    "slideshow": {
     "slide_type": "subslide"
    }
   },
   "source": [
    "## 什麼是衍生計算欄位\n",
    "\n",
    "透過運算符或函數等機制將既有欄位轉換為新欄位的技巧。"
   ]
  },
  {
   "cell_type": "markdown",
   "metadata": {
    "slideshow": {
     "slide_type": "subslide"
    }
   },
   "source": [
    "## 為什麼需要衍生計算欄位\n",
    "\n",
    "當既有欄位不足以回答探索性分析的問題時就需要衍生計算欄位。"
   ]
  },
  {
   "cell_type": "markdown",
   "metadata": {
    "slideshow": {
     "slide_type": "subslide"
    }
   },
   "source": [
    "## 計算的不同種類\n",
    "\n",
    "- 基礎計算。\n",
    "- 表格計算。\n",
    "- 使用函數。"
   ]
  },
  {
   "cell_type": "markdown",
   "metadata": {
    "slideshow": {
     "slide_type": "subslide"
    }
   },
   "source": [
    "## 基礎計算\n",
    "\n",
    "- 列層級（Row-level）計算。\n",
    "- 聚合計算。"
   ]
  },
  {
   "cell_type": "markdown",
   "metadata": {
    "slideshow": {
     "slide_type": "subslide"
    }
   },
   "source": [
    "## 列層級計算的範例：`Fatality Ratio`\n",
    "\n",
    "- Analysis > Create Calculated Field\n",
    "- 輸入衍生計算欄位名稱 `Fatality Ratio` 與公式。\n",
    "- 編輯顯示格式以顯示百分比。\n",
    "\n",
    "\\begin{equation}\n",
    "\\text{Fatality Ratio} = \\frac{\\text{Deaths}}{\\text{Confirmed}}\n",
    "\\end{equation}"
   ]
  },
  {
   "cell_type": "markdown",
   "metadata": {
    "slideshow": {
     "slide_type": "subslide"
    }
   },
   "source": [
    "## 聚合計算的範例：`Aggregate Fatality Ratio`\n",
    "\n",
    "- Analysis > Create Calculated Field\n",
    "- 輸入衍生計算欄位名稱 `Aggregate Fatality Ratio` 與公式。\n",
    "- 編輯顯示格式以顯示百分比。\n",
    "\n",
    "\\begin{equation}\n",
    "\\text{Aggregate Fatality Ratio} = \\frac{\\text{SUM}(\\text{Deaths})}{\\text{SUM}(\\text{Confirmed})}\n",
    "\\end{equation}"
   ]
  },
  {
   "cell_type": "markdown",
   "metadata": {
    "slideshow": {
     "slide_type": "subslide"
    }
   },
   "source": [
    "## 快速的表格計算\n",
    "\n",
    "- 將 `Confirmed` 拖移到 Columns\n",
    "- 將 `Country Region` 拖移到 Rows\n",
    "- `SUM(Confirmed)` > Quick Table Calculation > Percent of Total"
   ]
  },
  {
   "cell_type": "markdown",
   "metadata": {
    "slideshow": {
     "slide_type": "subslide"
    }
   },
   "source": [
    "## 如何解構衍生計算欄位\n",
    "\n",
    "- 函數。\n",
    "- 欄位。\n",
    "- 運算符。\n",
    "- 常數。"
   ]
  },
  {
   "cell_type": "markdown",
   "metadata": {
    "slideshow": {
     "slide_type": "subslide"
    }
   },
   "source": [
    "## Tableau 支援的函數包含\n",
    "\n",
    "- 通用函數\n",
    "    - [數值函數](https://help.tableau.com/current/pro/desktop/en-us/functions_functions_number.htm)\n",
    "    - [文字函數](https://help.tableau.com/current/pro/desktop/en-us/functions_functions_string.htm)\n",
    "    - [日期函數](https://help.tableau.com/current/pro/desktop/en-us/functions_functions_date.htm)\n",
    "    - [類別轉換](https://help.tableau.com/current/pro/desktop/en-us/functions_functions_typeconversion.htm)\n",
    "    - [邏輯函數](https://help.tableau.com/current/pro/desktop/en-us/functions_functions_logical.htm)\n",
    "- [聚合函數](https://help.tableau.com/current/pro/desktop/en-us/calculations_calculatedfields_aggregate_create.htm)"
   ]
  },
  {
   "cell_type": "markdown",
   "metadata": {
    "slideshow": {
     "slide_type": "subslide"
    }
   },
   "source": [
    "## 透過函數建立賽跑長條圖\n",
    "\n",
    "輸入衍生計算欄位名稱 `Confirmed Ranking` 與公式。\n",
    "\n",
    "\\begin{equation}\n",
    "\\text{Confirmed Ranking} = \\text{RANK_UNIQUE} \\Big( \\text{SUM} \\big( \\text{Confirmed (time series.csv)} \\big) \\Big)\n",
    "\\end{equation}"
   ]
  },
  {
   "cell_type": "markdown",
   "metadata": {
    "slideshow": {
     "slide_type": "subslide"
    }
   },
   "source": [
    "## 透過函數建立賽跑長條圖（續）\n",
    "\n",
    "- 拖移 `Confirmed (time series.csv)` 到 Columns\n",
    "- 拖移 `Confirmed Ranking` 到 Rows\n",
    "- 拖移 `Country Region (time series.csv)` 到 Color 與 Label"
   ]
  },
  {
   "cell_type": "markdown",
   "metadata": {
    "slideshow": {
     "slide_type": "subslide"
    }
   },
   "source": [
    "## 透過函數建立賽跑長條圖（續）\n",
    "\n",
    "轉換 `Confirmed Ranking` 為離散並依照 `Country Region (time series.csv)` 計算。\n",
    "\n",
    "![](https://i.imgur.com/xzdsTUK.png)"
   ]
  },
  {
   "cell_type": "markdown",
   "metadata": {
    "slideshow": {
     "slide_type": "subslide"
    }
   },
   "source": [
    "## 透過函數建立賽跑長條圖（續）\n",
    "\n",
    "- 將 `Date` 拖移到 Pages 並調整為 DAY(Date)\n",
    "- Format > Animations... 調整速度。"
   ]
  },
  {
   "cell_type": "markdown",
   "metadata": {
    "slideshow": {
     "slide_type": "slide"
    }
   },
   "source": [
    "## 重製 Johns Hopkins Coronavirus 儀表板"
   ]
  },
  {
   "cell_type": "markdown",
   "metadata": {
    "slideshow": {
     "slide_type": "subslide"
    }
   },
   "source": [
    "## Johns Hopkins Coronavirus 儀表板\n",
    "\n",
    "- [桌面版](https://www.arcgis.com/apps/opsdashboard/index.html#/bda7594740fd40299423467b48e9ecf6)\n",
    "- [手機版](http://www.arcgis.com/apps/opsdashboard/index.html#/85320e2ea5424dfaaa75ae62e5c06e61)"
   ]
  },
  {
   "cell_type": "markdown",
   "metadata": {
    "slideshow": {
     "slide_type": "subslide"
    }
   },
   "source": [
    "## 誰開始這個儀表板專案\n",
    "\n",
    "- [Lauren Gardner](https://systems.jhu.edu/about/team/) 教授與研究生 Ensheng Dong\n",
    "- Center for Systems Science and Engineering、ESRI 與 Johns Hopkins University Applied Physics Laboratory 擔任維運團隊。"
   ]
  },
  {
   "cell_type": "markdown",
   "metadata": {
    "slideshow": {
     "slide_type": "subslide"
    }
   },
   "source": [
    "## 儀表板專案的起始時間\n",
    "\n",
    "- 2020-01-22\n",
    "- 公開資料 <https://github.com/CSSEGISandData/COVID-19>"
   ]
  },
  {
   "cell_type": "markdown",
   "metadata": {
    "slideshow": {
     "slide_type": "subslide"
    }
   },
   "source": [
    "## 拆解儀表板\n",
    "\n",
    "- [資料來源](https://github.com/CSSEGISandData/COVID-19/tree/master/csse_covid_19_data)\n",
    "    - Lookup Table\n",
    "    - Time series\n",
    "    - Daily reports\n",
    "- 圖形\n",
    "    - 表格（Text Table）\n",
    "    - 記號地圖（Symbol map）\n",
    "    - 線圖（Line）\n",
    "    - 長條圖（Bar）"
   ]
  },
  {
   "cell_type": "markdown",
   "metadata": {
    "slideshow": {
     "slide_type": "subslide"
    }
   },
   "source": [
    "## 使用表格（Text Table）建立 Total Confirmed 與 Total Deaths\n",
    "\n",
    "- 建立兩個工作表。\n",
    "- 拖移 `Confirmed`、`Deaths` 到 Columns\n",
    "- 拖移 `Country_Region, Province_State` 到 Rows。\n",
    "- Show Me > **text table**\n",
    "- 遞減排序。\n",
    "- 顯示欄位總和。\n",
    "- 將欄位總和擺在表格上方。"
   ]
  },
  {
   "cell_type": "markdown",
   "metadata": {
    "slideshow": {
     "slide_type": "subslide"
    }
   },
   "source": [
    "## Analysis > Totals > Show Column Grand Totals / Column Totals to Top\n",
    "\n",
    "![Imgur](https://i.imgur.com/J4RPKiz.png)"
   ]
  },
  {
   "cell_type": "markdown",
   "metadata": {
    "slideshow": {
     "slide_type": "subslide"
    }
   },
   "source": [
    "## 使用記號地圖建立 Total Confirmed 與 Total Deaths\n",
    "\n",
    "- 建立一個工作表。\n",
    "- 將 `Country Region, Province State` 拖移到 Columns\n",
    "- 將 `Confirmed`、`Deaths` 拖移到 Rows\n",
    "- Show Me > **symbol maps**\n",
    "- 調整大小滑桿。"
   ]
  },
  {
   "cell_type": "markdown",
   "metadata": {
    "slideshow": {
     "slide_type": "subslide"
    }
   },
   "source": [
    "## 建立 Log 尺度的線圖\n",
    "\n",
    "- 建立一個工作表。\n",
    "- 將 `Date` 拖移到 Columns\n",
    "- 將 `Confirmed` 拖移到 Rows\n",
    "- 編輯軸為 `Logarithmic Scale`"
   ]
  },
  {
   "cell_type": "markdown",
   "metadata": {
    "slideshow": {
     "slide_type": "subslide"
    }
   },
   "source": [
    "## 建立每日淨增的長條圖\n",
    "\n",
    "- 建立一個工作表。\n",
    "- 將 `Date`  拖移到 Columns\n",
    "- 將 `Daily_Cases`/`Daily_Deaths` 拖移到 Rows\n",
    "- 將 Marks 由 Automatic 替換為 Bar"
   ]
  },
  {
   "cell_type": "markdown",
   "metadata": {
    "slideshow": {
     "slide_type": "subslide"
    }
   },
   "source": [
    "## 點選 New Dashboard 建立儀表板\n",
    "\n",
    "調整適合的解析度。"
   ]
  },
  {
   "cell_type": "markdown",
   "metadata": {
    "slideshow": {
     "slide_type": "subslide"
    }
   },
   "source": [
    "## 使用容器與空白排版\n",
    "\n",
    "- 容器\n",
    "    - 水平\n",
    "    - 垂直\n",
    "- 空白"
   ]
  },
  {
   "cell_type": "markdown",
   "metadata": {
    "slideshow": {
     "slide_type": "subslide"
    }
   },
   "source": [
    "## 從工作表新增至儀表板\n",
    "\n",
    "![Imgur](https://i.imgur.com/hiz0Jpf.png?1)"
   ]
  },
  {
   "cell_type": "markdown",
   "metadata": {
    "slideshow": {
     "slide_type": "subslide"
    }
   },
   "source": [
    "## 透過 Filter 添加互動性\n",
    "\n",
    "![Imgur](https://i.imgur.com/nrQBUV5.png?1)"
   ]
  }
 ],
 "metadata": {
  "celltoolbar": "Slideshow",
  "kernelspec": {
   "display_name": "Python 3 (ipykernel)",
   "language": "python",
   "name": "python3"
  },
  "language_info": {
   "codemirror_mode": {
    "name": "ipython",
    "version": 3
   },
   "file_extension": ".py",
   "mimetype": "text/x-python",
   "name": "python",
   "nbconvert_exporter": "python",
   "pygments_lexer": "ipython3",
   "version": "3.9.5"
  }
 },
 "nbformat": 4,
 "nbformat_minor": 4
}
